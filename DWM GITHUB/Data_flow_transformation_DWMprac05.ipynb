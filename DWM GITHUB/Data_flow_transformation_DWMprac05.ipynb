{
  "nbformat": 4,
  "nbformat_minor": 0,
  "metadata": {
    "colab": {
      "provenance": []
    },
    "kernelspec": {
      "name": "python3",
      "display_name": "Python 3"
    },
    "language_info": {
      "name": "python"
    }
  },
  "cells": [
    {
      "cell_type": "markdown",
      "source": [
        "**Practical 5 DWM**\n",
        "**Harshita Mahant**  \n",
        "**22070521149**\n",
        "\n",
        "To implement various data flow transformations that are commonly used in ETL (extract transform and load) processes.\n",
        "\n",
        "\n"
      ],
      "metadata": {
        "id": "-PeAujQexDgQ"
      }
    },
    {
      "cell_type": "code",
      "source": [
        "# Importing required libraries\n",
        "import pandas as pd\n",
        "import numpy as np\n",
        "import matplotlib.pyplot as pl"
      ],
      "metadata": {
        "id": "6ZwpXu1hxV_N"
      },
      "execution_count": null,
      "outputs": []
    },
    {
      "cell_type": "code",
      "source": [
        "#input data"
      ],
      "metadata": {
        "id": "D61pq6ubxeKc"
      },
      "execution_count": null,
      "outputs": []
    },
    {
      "cell_type": "code",
      "source": [
        "data={\n",
        "    'ID': [1, 2, 3, 4, 5, 6],\n",
        "    'Name': ['Rahul', 'Isha', 'Harsh', 'Aryan', 'Tina', 'Vanshika'],\n",
        "    'Age': [25, 30, 35, 40, 22, 29],\n",
        "    'Country': ['India', 'UK', 'USA', 'Australia', 'Canada', 'Russia'],\n",
        "    'Sales': [200, 450, 300, 800, 150, 400]\n",
        "}"
      ],
      "metadata": {
        "id": "DFoXTOHYxh7G"
      },
      "execution_count": null,
      "outputs": []
    },
    {
      "source": [
        "#create dataframe\n",
        "df = pd.DataFrame(data)\n",
        "print(\"Original Dataset:\")\n",
        "print(df)"
      ],
      "cell_type": "code",
      "metadata": {
        "colab": {
          "base_uri": "https://localhost:8080/"
        },
        "id": "NGNcAsv0zFFi",
        "outputId": "ace0fdf8-58f7-4909-c1e5-d9aadd1d651a"
      },
      "execution_count": null,
      "outputs": [
        {
          "output_type": "stream",
          "name": "stdout",
          "text": [
            "Original Dataset:\n",
            "   ID      Name  Age    Country  Sales\n",
            "0   1     Rahul   25      India    200\n",
            "1   2      Isha   30         UK    450\n",
            "2   3     Harsh   35        USA    300\n",
            "3   4     Aryan   40  Australia    800\n",
            "4   5      Tina   22     Canada    150\n",
            "5   6  Vanshika   29     Russia    400\n"
          ]
        }
      ]
    },
    {
      "cell_type": "code",
      "source": [
        "#Data Transforamtions"
      ],
      "metadata": {
        "id": "p_u_EeUhzozj"
      },
      "execution_count": null,
      "outputs": []
    },
    {
      "cell_type": "code",
      "source": [
        "#character map\n",
        "#description: Transform text data by changing the case of characters.\n",
        "#Here, we will convert the Name column to uppercase."
      ],
      "metadata": {
        "id": "W7-5uDD_0EW4"
      },
      "execution_count": null,
      "outputs": []
    },
    {
      "cell_type": "code",
      "source": [
        "df['Name_Upper']=df['Name'].str.upper()\n",
        "print(\"\\nCharacter Map (Uppercase Names):\")\n",
        "print(df[['ID','Name','Name_Upper']])"
      ],
      "metadata": {
        "colab": {
          "base_uri": "https://localhost:8080/"
        },
        "id": "zabYGCyg3kLo",
        "outputId": "691a5bda-aa6a-4659-ae1d-41887693082b"
      },
      "execution_count": null,
      "outputs": [
        {
          "output_type": "stream",
          "name": "stdout",
          "text": [
            "\n",
            "Character Map (Uppercase Names):\n",
            "   ID      Name Name_Upper\n",
            "0   1     Rahul      RAHUL\n",
            "1   2      Isha       ISHA\n",
            "2   3     Harsh      HARSH\n",
            "3   4     Aryan      ARYAN\n",
            "4   5      Tina       TINA\n",
            "5   6  Vanshika   VANSHIKA\n"
          ]
        }
      ]
    },
    {
      "cell_type": "code",
      "source": [
        "#multicast: create two copies of the dataset\n",
        "df_copy1 = df.copy()\n",
        "df_copy2 = df.copy()\n",
        "\n",
        "#transformations on each copy\n",
        "df_copy1['Sales'] *= 1.1 #increase sales by 10%\n",
        "df_copy2['Age'] += 5\n",
        "\n",
        "print(\"\\nMulticast (Modified copies):\")\n",
        "print(\"Copy 1 (Sales Increased):\")\n",
        "print(df_copy1)\n",
        "print(\"\\nCopy 2 (Age Increased):\")\n",
        "print(df_copy2)"
      ],
      "metadata": {
        "colab": {
          "base_uri": "https://localhost:8080/"
        },
        "id": "YHlvbzdO0b-d",
        "outputId": "ff2eadb4-21f9-42e3-a37f-4ebcce9b619c"
      },
      "execution_count": null,
      "outputs": [
        {
          "output_type": "stream",
          "name": "stdout",
          "text": [
            "\n",
            "Multicast (Modified copies):\n",
            "Copy 1 (Sales Increased):\n",
            "   ID      Name  Age    Country  Sales Name_Upper\n",
            "0   1     Rahul   25      India  220.0      RAHUL\n",
            "1   2      Isha   30         UK  495.0       ISHA\n",
            "2   3     Harsh   35        USA  330.0      HARSH\n",
            "3   4     Aryan   40  Australia  880.0      ARYAN\n",
            "4   5      Tina   22     Canada  165.0       TINA\n",
            "5   6  Vanshika   29     Russia  440.0   VANSHIKA\n",
            "\n",
            "Copy 2 (Age Increased):\n",
            "   ID      Name  Age    Country  Sales Name_Upper\n",
            "0   1     Rahul   30      India    200      RAHUL\n",
            "1   2      Isha   35         UK    450       ISHA\n",
            "2   3     Harsh   40        USA    300      HARSH\n",
            "3   4     Aryan   45  Australia    800      ARYAN\n",
            "4   5      Tina   27     Canada    150       TINA\n",
            "5   6  Vanshika   34     Russia    400   VANSHIKA\n"
          ]
        }
      ]
    },
    {
      "cell_type": "code",
      "source": [
        "#3. Conditional split\n",
        "#description: split data based on a condition.\n",
        "#Here, we will separate rows with Sales > 300."
      ],
      "metadata": {
        "id": "qxXlNGxj3rUq"
      },
      "execution_count": null,
      "outputs": []
    },
    {
      "cell_type": "code",
      "source": [
        "#Conditional split: Sales > 300\n",
        "high_sales = df[df['Sales'] > 300]\n",
        "low_sales = df[df['Sales'] <= 300]\n",
        "\n",
        "print(\"\\nHigh sales :\")\n",
        "print(high_sales)\n",
        "print(\"\\nLow sales :\")\n",
        "print(low_sales)\n",
        "\n"
      ],
      "metadata": {
        "colab": {
          "base_uri": "https://localhost:8080/"
        },
        "id": "qdXKMBrJ2t_n",
        "outputId": "013ab6fd-e497-4a5a-f93e-ccccc241c7b1"
      },
      "execution_count": null,
      "outputs": [
        {
          "output_type": "stream",
          "name": "stdout",
          "text": [
            "\n",
            "High sales :\n",
            "   ID      Name  Age    Country  Sales Name_Upper\n",
            "1   2      Isha   30         UK    450       ISHA\n",
            "3   4     Aryan   40  Australia    800      ARYAN\n",
            "5   6  Vanshika   29     Russia    400   VANSHIKA\n",
            "\n",
            "Low sales :\n",
            "   ID   Name  Age Country  Sales Name_Upper\n",
            "0   1  Rahul   25   India    200      RAHUL\n",
            "2   3  Harsh   35     USA    300      HARSH\n",
            "4   5   Tina   22  Canada    150       TINA\n"
          ]
        }
      ]
    },
    {
      "cell_type": "code",
      "source": [
        "#4.Aggreagation\n",
        "#Description: Aggreagate data, e.g.,calculate Total Sales by Country\n",
        "agg_df = df.groupby('Country')['Sales'].sum().reset_index()\n",
        "print(\"\\nAggregation (Total Sales by Country):\")\n",
        "print(agg_df)"
      ],
      "metadata": {
        "colab": {
          "base_uri": "https://localhost:8080/"
        },
        "id": "HxlkGs9V4SgB",
        "outputId": "e270f576-f970-4f3d-e587-66d3296782b2"
      },
      "execution_count": null,
      "outputs": [
        {
          "output_type": "stream",
          "name": "stdout",
          "text": [
            "\n",
            "Aggregation (Total Sales by Country):\n",
            "     Country  Sales\n",
            "0  Australia    800\n",
            "1     Canada    150\n",
            "2      India    200\n",
            "3     Russia    400\n",
            "4         UK    450\n",
            "5        USA    300\n"
          ]
        }
      ]
    },
    {
      "cell_type": "code",
      "source": [
        "#5. Sort\n",
        "#Description: Sort the dataset by Sales in descending order.\n",
        "#Sort: Sort by Sales in descending order\n",
        "sorted_df = df.sort_values(by='Sales', ascending=False)\n",
        "print(\"\\nSort (Descending Sales):\")\n",
        "print(sorted_df)"
      ],
      "metadata": {
        "colab": {
          "base_uri": "https://localhost:8080/"
        },
        "id": "D9oIf0Mu5F2T",
        "outputId": "8d0cd486-7007-4bec-b1f5-fbc5fdbb70b3"
      },
      "execution_count": null,
      "outputs": [
        {
          "output_type": "stream",
          "name": "stdout",
          "text": [
            "\n",
            "Sort (Descending Sales):\n",
            "   ID      Name  Age    Country  Sales Name_Upper\n",
            "3   4     Aryan   40  Australia    800      ARYAN\n",
            "1   2      Isha   30         UK    450       ISHA\n",
            "5   6  Vanshika   29     Russia    400   VANSHIKA\n",
            "2   3     Harsh   35        USA    300      HARSH\n",
            "0   1     Rahul   25      India    200      RAHUL\n",
            "4   5      Tina   22     Canada    150       TINA\n"
          ]
        }
      ]
    },
    {
      "cell_type": "code",
      "source": [
        "#6.Derived Column: Categorize sales as 'High' or 'Low'(Lambda Function).\n",
        "#create a new column by deriving information from existing data."
      ],
      "metadata": {
        "id": "wd5F-GN-6r9N"
      },
      "execution_count": null,
      "outputs": []
    },
    {
      "cell_type": "code",
      "source": [
        "#Derived Column: Categorize sales as 'High' or 'Low'.\n",
        "df['Sales_Category'] = df['Sales'].apply(lambda x: 'High' if x > 300 else'Low')\n",
        "print(\"\\nDerived Column (Sales Category):\")\n",
        "print(df[['ID','Name','Sales','Sales_Category']])\n"
      ],
      "metadata": {
        "colab": {
          "base_uri": "https://localhost:8080/"
        },
        "id": "mzigbxpl59yH",
        "outputId": "26ccce0f-73b4-452c-9309-4acb7e124782"
      },
      "execution_count": null,
      "outputs": [
        {
          "output_type": "stream",
          "name": "stdout",
          "text": [
            "\n",
            "Derived Column (Sales Category):\n",
            "   ID      Name  Sales Sales_Category\n",
            "0   1     Rahul    200            Low\n",
            "1   2      Isha    450           High\n",
            "2   3     Harsh    300            Low\n",
            "3   4     Aryan    800           High\n",
            "4   5      Tina    150            Low\n",
            "5   6  Vanshika    400           High\n"
          ]
        }
      ]
    }
  ]
}